{
 "cells": [
  {
   "cell_type": "code",
   "execution_count": 3,
   "metadata": {},
   "outputs": [
    {
     "name": "stdout",
     "output_type": "stream",
     "text": [
      "btc\n",
      "3247\n",
      "2018-01-02 00:00:00\n",
      "eth\n",
      "3247\n",
      "2018-01-02 00:00:00\n",
      "ltc\n",
      "3247\n",
      "2018-01-02 00:00:00\n",
      "xrp\n",
      "3247\n",
      "2018-01-02 00:00:00\n",
      "bch\n",
      "3246\n",
      "2018-01-02 04:00:00\n",
      "eos\n",
      "3244\n",
      "2018-01-02 12:00:00\n",
      "bsv\n",
      "1340\n",
      "2018-11-15 20:00:00\n",
      "trx\n",
      "3110\n",
      "2018-01-24 20:00:00\n",
      "xlm\n",
      "2530\n",
      "2018-05-01 12:00:00\n"
     ]
    }
   ],
   "source": [
    "from datetime import datetime\n",
    "import requests\n",
    "\n",
    "coins = ['btc','eth','ltc', 'xrp', 'bch','eos','bsv','trx','xlm']\n",
    "coin_dict = {}\n",
    "for coin in coins:\n",
    "    print(coin)\n",
    "    url = \"https://api.cryptowat.ch/markets/bitfinex/%susd/ohlc\" %(coin)\n",
    "    parameters = {\n",
    "      'periods':'14400',\n",
    "        'before':'1561608000',\n",
    "        'after':'1514764800'\n",
    "    }\n",
    "    s = \"response_2018_%s\" %(coin)\n",
    "    coin_dict[s] = requests.get(url,params = parameters).json()['result']['14400']\n",
    "    print(len(coin_dict[s]))\n",
    "    print(datetime.utcfromtimestamp((coin_dict[s][0][0])).strftime('%Y-%m-%d %H:%M:%S'))"
   ]
  },
  {
   "cell_type": "code",
   "execution_count": 4,
   "metadata": {},
   "outputs": [],
   "source": [
    "import numpy as np\n",
    "\n",
    "coin_clean_dict = {}\n",
    "\n",
    "for s in coin_dict.keys():\n",
    "    coin_array = np.zeros([len(coin_dict[s]),2])\n",
    "    for j in range(len(coin_dict[s])):\n",
    "        # price\n",
    "        coin_array[j][0] = coin_dict[s][j][1]\n",
    "        # volume\n",
    "        coin_array[j][1] = coin_dict[s][j][5]\n",
    "    coin_clean_dict[s] = coin_array"
   ]
  },
  {
   "cell_type": "code",
   "execution_count": 9,
   "metadata": {},
   "outputs": [
    {
     "name": "stdout",
     "output_type": "stream",
     "text": [
      "[[13249.          5229.338     ]\n",
      " [13374.          8460.04      ]\n",
      " [13315.          6468.3545    ]\n",
      " ...\n",
      " [12818.29362912 16007.11500483]\n",
      " [13729.         18685.58795997]\n",
      " [12876.          4793.33784966]]\n"
     ]
    }
   ],
   "source": [
    "print(coin_clean_dict['response_2018_btc'])"
   ]
  },
  {
   "cell_type": "code",
   "execution_count": null,
   "metadata": {},
   "outputs": [],
   "source": []
  }
 ],
 "metadata": {
  "kernelspec": {
   "display_name": "Python 3",
   "language": "python",
   "name": "python3"
  },
  "language_info": {
   "codemirror_mode": {
    "name": "ipython",
    "version": 3
   },
   "file_extension": ".py",
   "mimetype": "text/x-python",
   "name": "python",
   "nbconvert_exporter": "python",
   "pygments_lexer": "ipython3",
   "version": "3.6.8"
  }
 },
 "nbformat": 4,
 "nbformat_minor": 2
}
